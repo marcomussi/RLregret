{
 "cells": [
  {
   "cell_type": "code",
   "execution_count": 1,
   "id": "7d473834-cebc-419a-b7c3-1e8d9a0a551c",
   "metadata": {},
   "outputs": [],
   "source": [
    "import numpy as np\n",
    "import time\n",
    "import multiprocessing\n",
    "import matplotlib.pyplot as plt\n",
    "\n",
    "from running_utils import trial"
   ]
  },
  {
   "cell_type": "code",
   "execution_count": 3,
   "id": "ede1ed29-e8da-49ec-a447-d59452f6196d",
   "metadata": {},
   "outputs": [],
   "source": [
    "from env import ToyEnv\n",
    "from agents import UCBVI, MVP\n",
    "\n",
    "def trial(S, A, H, K, trial_id=1):\n",
    "\n",
    "    env = ToyEnv(S, A, H)\n",
    "    opt = env.computeOptimalValueFunction()\n",
    "    opt_rewards = opt * np.ones(K)\n",
    "\n",
    "    start_time = time.time()\n",
    "\n",
    "    print(\"Starting trial \" + str(trial_id+1) + \" for MVP.\")\n",
    "    \n",
    "    agent_MVP = MVP(S, A, H, K, env.getRewards(), 1/K)\n",
    "    rewards_MVP = np.zeros((K, H))\n",
    "\n",
    "    for k in range(K):\n",
    "        env.reset()\n",
    "        agent_MVP.newEpisode()\n",
    "        state = env.getCurrentState()\n",
    "        for h in range(H):\n",
    "            action = agent_MVP.choose(state, h)\n",
    "            state, reward = env.step(action)\n",
    "            agent_MVP.update(state, reward)\n",
    "            rewards_MVP[k, h] = reward\n",
    "\n",
    "    ep_rewards_MVP = rewards_MVP.sum(axis=1)\n",
    "    ep_regret_MVP = opt_rewards - ep_rewards_MVP\n",
    "    ep_regret_MVP = ep_regret_MVP.cumsum()\n",
    "\n",
    "    print(\"Terminating trial \" + str(trial_id+1) + \" for MVP. Elapsed time: \" + str(int(time.time() - start_time)) + \" sec\")\n",
    "    \n",
    "    start_time = time.time()\n",
    "\n",
    "    print(\"Starting trial \" + str(trial_id+1) + \" for UCBVI-BF.\")\n",
    "    \n",
    "    \n",
    "    agent_BF = UCBVI(S, A, H, K, env.getRewards(), 'BF')\n",
    "    rewards_BF = np.zeros((K, H))\n",
    "\n",
    "    \"\"\"\n",
    "    for k in range(K):\n",
    "        env.reset()\n",
    "        agent_BF.newEpisode()\n",
    "        state = env.getCurrentState()\n",
    "        for h in range(H):\n",
    "            action = agent_BF.choose(state, h)\n",
    "            state, reward = env.step(action)\n",
    "            agent_BF.update(state, reward)\n",
    "            rewards_BF[k, h] = reward\n",
    "    \"\"\"\n",
    "\n",
    "    ep_rewards_BF = rewards_BF.sum(axis=1)\n",
    "    ep_regret_BF = opt_rewards - ep_rewards_BF\n",
    "    ep_regret_BF = ep_regret_BF.cumsum()\n",
    "\n",
    "    print(\"Terminating trial \" + str(trial_id+1) + \" for UCBVI-BF. Elapsed time: \" + str(int(time.time() - start_time)) + \" sec\")\n",
    "    \n",
    "    return (ep_regret_MVP, ep_regret_BF)"
   ]
  },
  {
   "cell_type": "code",
   "execution_count": null,
   "id": "def2a6a4-e0e8-4b66-b494-40fa0490442b",
   "metadata": {},
   "outputs": [],
   "source": []
  },
  {
   "cell_type": "code",
   "execution_count": 4,
   "id": "94e70e02-d0c2-4215-b37a-379db04c92d4",
   "metadata": {},
   "outputs": [
    {
     "name": "stdout",
     "output_type": "stream",
     "text": [
      "Starting trial 1 for MVP.\n"
     ]
    },
    {
     "name": "stderr",
     "output_type": "stream",
     "text": [
      "/var/folders/58/jk09dpw90wv_97d9nbc3mnn00000gn/T/ipykernel_16167/2543412045.py:74: DeprecationWarning: Conversion of an array with ndim > 0 to a scalar is deprecated, and will error in future. Ensure you extract a single element from your array before performing this operation. (Deprecated NumPy 1.25.)\n",
      "  self.Qstar[s, a, h] = self.R[s, a] + self.Phat[s, a, :].reshape(\n"
     ]
    },
    {
     "name": "stdout",
     "output_type": "stream",
     "text": [
      "Terminating trial 1 for MVP. Elapsed time: 506 sec\n",
      "Starting trial 1 for UCBVI-BF.\n",
      "Terminating trial 1 for UCBVI-BF. Elapsed time: 0 sec\n"
     ]
    }
   ],
   "source": [
    "S = 2\n",
    "A = 2\n",
    "H = 5\n",
    "K = 2000000\n",
    "\n",
    "results1 = trial(S, A, H, K, 0)\n",
    "results2 = trial(S, A, H, K, 1)\n",
    "results3 = trial(S, A, H, K, 2)"
   ]
  },
  {
   "cell_type": "code",
   "execution_count": 5,
   "id": "c9c58dd5-18ad-4d50-9dd4-bbccabbe7e70",
   "metadata": {},
   "outputs": [
    {
     "data": {
      "text/plain": [
       "(0.0, 800000.0)"
      ]
     },
     "execution_count": 5,
     "metadata": {},
     "output_type": "execute_result"
    },
    {
     "data": {
      "image/png": "[encoded data removed]",
      "text/plain": [
       "<Figure size 640x480 with 1 Axes>"
      ]
     },
     "metadata": {},
     "output_type": "display_data"
    }
   ],
   "source": [
    "results1_MVP = results1[0]\n",
    "results1_BF = results1[1]\n",
    "results2_MVP = results2[0]\n",
    "results2_BF = results2[1]\n",
    "results3_MVP = results3[0]\n",
    "results3_BF = results3[1]\n",
    "\n",
    "results_MVP = [results1_MVP, results2_MVP, results3_MVP]\n",
    "results_BF = [results1_BF, results2_BF, results3_BF]\n",
    "\n",
    "plt.figure()\n",
    "x_plt = np.linspace(1, K, K)\n",
    "\n",
    "results = np.array(results_MVP).T\n",
    "results_mean = results.mean(axis=1)\n",
    "results_std = results.std(axis=1)\n",
    "\n",
    "plt.plot(x_plt, results_mean, label=\"MVP\")\n",
    "plt.fill_between(x_plt, results_mean - results_std, results_mean + results_std, alpha=0.3)\n",
    "\n",
    "results = np.array(results_BF).T\n",
    "results_mean = results.mean(axis=1)\n",
    "results_std = results.std(axis=1)\n",
    "\n",
    "plt.plot(x_plt, results_mean, label=\"BF\")\n",
    "plt.fill_between(x_plt, results_mean - results_std, results_mean + results_std, alpha=0.3)\n",
    "\n",
    "plt.legend()\n",
    "# plt.yscale(\"log\")\n",
    "plt.savefig(\"all.png\")\n",
    "plt.ylim([0, 8e5])"
   ]
  },
  {
   "cell_type": "code",
   "execution_count": 17,
   "id": "4e22c739-8ad4-416c-8237-977274306f63",
   "metadata": {},
   "outputs": [
    {
     "data": {
      "text/plain": [
       "\"{'S': 2, 'A': 2, 'H': 5, 'K': 50000, 'alg_lst': ['BF', 'BFI'], 'n_trials': 4, 'n_cores': 4}\""
      ]
     },
     "execution_count": 17,
     "metadata": {},
     "output_type": "execute_result"
    }
   ],
   "source": [
    "config = {\"S\" : 2, \"A\" : 2, \"H\" : 5, \"K\" : 50000, \"alg_lst\" : [\"BF\", \"BFI\"], \"n_trials\" : 4, \"n_cores\" : 4}\n",
    "str(config)    "
   ]
  },
  {
   "cell_type": "code",
   "execution_count": null,
   "id": "c325b17c-0290-49f7-85e4-40655cff1d2a",
   "metadata": {},
   "outputs": [],
   "source": []
  }
 ],
 "metadata": {
  "kernelspec": {
   "display_name": "Python 3 (ipykernel)",
   "language": "python",
   "name": "python3"
  },
  "language_info": {
   "codemirror_mode": {
    "name": "ipython",
    "version": 3
   },
   "file_extension": ".py",
   "mimetype": "text/x-python",
   "name": "python",
   "nbconvert_exporter": "python",
   "pygments_lexer": "ipython3",
   "version": "3.12.4"
  }
 },
 "nbformat": 4,
 "nbformat_minor": 5
}
